{
 "cells": [
  {
   "cell_type": "markdown",
   "id": "82115246-fac0-49d7-a0f2-16607e3cae98",
   "metadata": {},
   "source": [
    "# Importar librerías"
   ]
  },
  {
   "cell_type": "code",
   "execution_count": null,
   "id": "86fe7fca-a0e1-4a1f-91fa-746e018257a7",
   "metadata": {},
   "outputs": [],
   "source": [
    "%matplotlib inline\n",
    "import pandas as pd\n",
    "import matplotlib.pyplot as plt\n",
    "from fbprophet import Prophet"
   ]
  },
  {
   "cell_type": "markdown",
   "id": "8c5010b5-b574-4e38-8e8b-d095139a357e",
   "metadata": {},
   "source": [
    "# Leer datos\n",
    "\n",
    "Trabajaremos con el conjunto de datos Box and Jenkins (1976) Airline Passengers (Pasajeros aéreos), que contiene datos de serie de tiempo del número mensual de pasajeros entre 1949 y 1960."
   ]
  },
  {
   "cell_type": "code",
   "execution_count": null,
   "id": "37ee42f9-6228-499a-ad9e-4307ffa52acd",
   "metadata": {},
   "outputs": [],
   "source": [
    "df = pd.read_csv('AirPassengers.csv')\n",
    "\n",
    "df.head(5)"
   ]
  },
  {
   "cell_type": "markdown",
   "id": "fe3fe107-36dd-4dd7-a94c-637f9ab1c566",
   "metadata": {},
   "source": [
    "# Adecuar los datos al formato requerido por Prophet\n",
    "\n",
    "Prophet requiere que la columna de tiempo esté en el formato \"datetime\"\""
   ]
  },
  {
   "cell_type": "code",
   "execution_count": null,
   "id": "31520f88-fd6c-4d14-a711-448cc93bd46d",
   "metadata": {},
   "outputs": [],
   "source": [
    "df.dtypes"
   ]
  },
  {
   "cell_type": "code",
   "execution_count": null,
   "id": "bd118fdc-8918-4ae1-91c5-e9aca7eff86a",
   "metadata": {
    "tags": []
   },
   "outputs": [],
   "source": [
    "df['Month'] = pd.DatetimeIndex(df['Month'])\n",
    "df.dtypes"
   ]
  },
  {
   "cell_type": "markdown",
   "id": "6c4cec86-c0e6-48b6-aed9-9a6499996d6b",
   "metadata": {},
   "source": [
    "También requiere que las columnas se llamen \"ds\" y \"y\", respectivamente"
   ]
  },
  {
   "cell_type": "code",
   "execution_count": null,
   "id": "be70ef15-fb17-4d93-830c-97ee0622ea82",
   "metadata": {},
   "outputs": [],
   "source": [
    "df = df.rename(columns={'Month': 'ds',\n",
    "                        'AirPassengers': 'y'})\n",
    "\n",
    "df.head(5)"
   ]
  },
  {
   "cell_type": "markdown",
   "id": "96a94e1b-8e42-4bfb-bf24-e3175f0aed13",
   "metadata": {},
   "source": [
    "# Visualización de los datos\n",
    "\n",
    "Siempre es buena práctica ver cómo son los datos"
   ]
  },
  {
   "cell_type": "code",
   "execution_count": null,
   "id": "d41d149f-6081-40a8-979e-38431cebda10",
   "metadata": {},
   "outputs": [],
   "source": [
    "ax = df.set_index('ds').plot(figsize=(12, 8))\n",
    "ax.set_ylabel('Número de pasajeros aéreos por mes')\n",
    "ax.set_xlabel('Fecha')\n",
    "\n",
    "plt.show();"
   ]
  },
  {
   "cell_type": "markdown",
   "id": "6de31d6b-4f7d-4af6-a09c-d372574e6b9e",
   "metadata": {},
   "source": [
    "# Predicción con Prophet\n",
    "\n",
    "Debemos instanciar un objeto de la Clase Prophet"
   ]
  },
  {
   "cell_type": "code",
   "execution_count": null,
   "id": "74cccdb8-b90a-4439-8d48-1b6313614119",
   "metadata": {},
   "outputs": [],
   "source": [
    "# fijar el intervalo de incertidumbre en 95% (el default de Prophet es 80%)\n",
    "mi_modelo = Prophet(interval_width = 0.95)"
   ]
  },
  {
   "cell_type": "markdown",
   "id": "fa9c9d6e-5e38-44bf-a863-275cad7fe6c6",
   "metadata": {},
   "source": [
    "Ajustamos el modelo con los datos del dataframe"
   ]
  },
  {
   "cell_type": "code",
   "execution_count": null,
   "id": "501eda2c-9b7a-46ec-b189-66a304c80d61",
   "metadata": {},
   "outputs": [],
   "source": [
    "mi_modelo.fit(df)"
   ]
  },
  {
   "cell_type": "markdown",
   "id": "0283e1a5-033e-4d77-bd5e-a8cb8fc9ffc6",
   "metadata": {},
   "source": [
    "Para obtener predicciones, se debe provee al Prophet un nuevo DataFrame que contenga una columna \"ds\" con las fechas para las cuales se quiere una predicción.  No es necesario crear este nuevo DataFrame manualmente ya que Prophet contiene una función que lo hace:  make_future_dataframe()\n",
    "\n",
    "Le indicaremos que queremos 36 nuevas fechas que representan meses"
   ]
  },
  {
   "cell_type": "code",
   "execution_count": null,
   "id": "1ca926b2-2d8c-4cf3-881f-3d03ec83237e",
   "metadata": {},
   "outputs": [],
   "source": [
    "fechas_futuras = mi_modelo.make_future_dataframe(periods=36, freq='MS')\n",
    "fechas_futuras.tail()"
   ]
  },
  {
   "cell_type": "markdown",
   "id": "f765b189-09b7-49c9-963d-321d7ee7afed",
   "metadata": {},
   "source": [
    "Este DataFrame de fechas futuras se utiliza como entrada al método \"predict\" de nuestro modelo ajustado."
   ]
  },
  {
   "cell_type": "code",
   "execution_count": null,
   "id": "cca1e17e-1fb1-4ded-918f-bcecd7d571b4",
   "metadata": {},
   "outputs": [],
   "source": [
    "prediccion = mi_modelo.predict(fechas_futuras)"
   ]
  },
  {
   "cell_type": "markdown",
   "id": "429a1322-f772-4734-8f00-e5f26419c118",
   "metadata": {},
   "source": [
    "El Prophet devuelve un DataFrame grande con muchas columnas interesantes.  Sin embargo, vamos a pedirle solo aquellas columnas que son las más relevantes para la predicción.  Estas son:\n",
    "\n",
    "ds: el tiempo de el valor predicho\n",
    "yhat: tel valor predicho de nuestra métrica (en la Estadística, yhat es una notación que tradicionalmente se usa para representar los valores predichos de un valor y )\n",
    "yhat_lower: el límite inferior de nuestras predicciones\n",
    "yhat_upper: el límite superior de nuestras predicciones"
   ]
  },
  {
   "cell_type": "code",
   "execution_count": null,
   "id": "2fd149fa-e435-4430-8c06-a2199eb6091f",
   "metadata": {},
   "outputs": [],
   "source": [
    "prediccion[['ds', 'yhat', 'yhat_lower', 'yhat_upper']].tail()"
   ]
  },
  {
   "cell_type": "markdown",
   "id": "bdf2a6c2-3b37-4272-9863-5460b058c3d4",
   "metadata": {},
   "source": [
    "Es de esperar variaciones en los resultados que se ven arriba ya que Prophet se vale de métodos \n",
    "Markov Chain Monte Carlo (MCMC) para generar las predicciones.  MCMC es un proceso estocástico, por lo que los valores serán levemente diferentes cada vez que se ejecuta."
   ]
  },
  {
   "cell_type": "markdown",
   "id": "f00b5a11-024c-456d-b850-c575e86701c4",
   "metadata": {},
   "source": [
    "Prophet también provee una conveniente función para graficar los resultados de la predicción"
   ]
  },
  {
   "cell_type": "code",
   "execution_count": null,
   "id": "8ce98ea4-8c53-4fe8-aac8-f10793c342d4",
   "metadata": {},
   "outputs": [],
   "source": [
    "mi_modelo.plot(prediccion,\n",
    "               uncertainty=True);"
   ]
  },
  {
   "cell_type": "markdown",
   "id": "b6beee89-3988-4908-b353-7f937b294106",
   "metadata": {},
   "source": [
    "La gráfica muestra los valores observados de nuestra serie de tiempo (los puntos negros), los valored predichos (la línea azul) y los intervalos de incertiddumbres de las predicciones (las regiones sombreadas en azul)."
   ]
  },
  {
   "cell_type": "markdown",
   "id": "8bd86014-c57c-4515-ad32-632d19cb747d",
   "metadata": {},
   "source": [
    "Una característica particularmente fuerte de Prophet es su habilidad para mostrar los componentes de las predicciones.  Esto puede ayudar a revelar cómo contribuyen los patrones diarios, semanales y anuales de la serie de tiempo al valor global, o total, de las predicciones: "
   ]
  },
  {
   "cell_type": "code",
   "execution_count": null,
   "id": "6179e90e-7b4f-49b6-816b-21726099cd22",
   "metadata": {},
   "outputs": [],
   "source": [
    "mi_modelo.plot_components(prediccion);"
   ]
  },
  {
   "cell_type": "code",
   "execution_count": null,
   "id": "754d34bf-275e-4c60-9fe5-fea59b5680d7",
   "metadata": {},
   "outputs": [],
   "source": []
  },
  {
   "cell_type": "code",
   "execution_count": null,
   "id": "f47baf4a-f29f-46b0-b8b9-b20fd444f1a7",
   "metadata": {},
   "outputs": [],
   "source": []
  }
 ],
 "metadata": {
  "kernelspec": {
   "display_name": "Python 3 (ipykernel)",
   "language": "python",
   "name": "python3"
  },
  "language_info": {
   "codemirror_mode": {
    "name": "ipython",
    "version": 3
   },
   "file_extension": ".py",
   "mimetype": "text/x-python",
   "name": "python",
   "nbconvert_exporter": "python",
   "pygments_lexer": "ipython3",
   "version": "3.9.13"
  }
 },
 "nbformat": 4,
 "nbformat_minor": 5
}
